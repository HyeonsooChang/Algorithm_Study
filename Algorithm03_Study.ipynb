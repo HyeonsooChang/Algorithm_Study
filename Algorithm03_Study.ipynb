{
 "cells": [
  {
   "cell_type": "code",
   "execution_count": 3,
   "id": "9d013d7c",
   "metadata": {},
   "outputs": [
    {
     "name": "stdout",
     "output_type": "stream",
     "text": [
      "1부터 n까지의 정수의 합을 구합니다.\n",
      "n갑슬 입력: 9\n",
      "1부터 9까지의 정수의 합은 45\n"
     ]
    }
   ],
   "source": [
    "#1부터 n까지의 정수의 합 구하기(n값은 양수만 입력받음)\n",
    "\n",
    "print('1부터 n까지의 정수의 합을 구합니다.')\n",
    "\n",
    "while True:\n",
    "    n =int(input('n값을 입력: '))\n",
    "    if n>0:\n",
    "        break    # n이 0보다 커질때까지 반복\n",
    "        \n",
    "sum = 0 \n",
    "i = 1\n",
    "\n",
    "for i in range(1,n+1):\n",
    "    sum += i\n",
    "    i += 1\n",
    "    \n",
    "print(f'1부터 {n}까지의 정수의 합은 {sum}')"
   ]
  },
  {
   "cell_type": "code",
   "execution_count": 5,
   "id": "175ab3cd",
   "metadata": {},
   "outputs": [
    {
     "name": "stdout",
     "output_type": "stream",
     "text": [
      "직사각형의 넓이를 입력하세요 : 45\n",
      "1 x 45\n",
      "3 x 15\n",
      "5 x 9\n"
     ]
    }
   ],
   "source": [
    "#가로, 세로 길이가 정수이고, 넓이가 area인 직사각형에서 변의 길이 나열하기\n",
    "\n",
    "area = int(input('직사각형의 넓이를 입력하세요 : '))\n",
    "\n",
    "for i in range(1, area+1):\n",
    "    if i*i > area :\n",
    "        break\n",
    "        \n",
    "    if area% i : \n",
    "        continue\n",
    "        \n",
    "    print(f'{i} x {area//i}')"
   ]
  },
  {
   "cell_type": "code",
   "execution_count": 11,
   "id": "ce2e6df5",
   "metadata": {},
   "outputs": [
    {
     "name": "stdout",
     "output_type": "stream",
     "text": [
      "난수의 개수를 입력하세요: 5\n",
      "8642919743\n",
      "난수 생성을 종료합니다\n"
     ]
    }
   ],
   "source": [
    "#10~99사이의 난수 n개 생성하기(13이 나오면 중단)\n",
    "\n",
    "import random\n",
    "\n",
    "n = int(input('난수의 개수를 입력하세요: '))\n",
    "\n",
    "for i in range(n):\n",
    "    r = random.randint(10,99)\n",
    "    print(r, end='')\n",
    "    if r == 13:\n",
    "        print('\\n 프로그램을 중단합니다.')\n",
    "        break\n",
    "        \n",
    "else:\n",
    "    print('\\n난수 생성을 종료합니다')"
   ]
  },
  {
   "cell_type": "code",
   "execution_count": 12,
   "id": "9d66c476",
   "metadata": {},
   "outputs": [
    {
     "name": "stdout",
     "output_type": "stream",
     "text": [
      "12345679101112\n"
     ]
    }
   ],
   "source": [
    "#1~12까지 8을 건너뛰고 출력하기 1\n",
    "\n",
    "for i in range(1,13):\n",
    "    if i ==8:\n",
    "        continue\n",
    "    print(i, end='')\n",
    "\n",
    "print()"
   ]
  },
  {
   "cell_type": "code",
   "execution_count": 14,
   "id": "64c9e815",
   "metadata": {},
   "outputs": [
    {
     "name": "stdout",
     "output_type": "stream",
     "text": [
      "2자리 양수를 입력하세요\n",
      "값을 입력: 2\n",
      "값을 입력: 15\n",
      "입력받은 양수는 15\n"
     ]
    }
   ],
   "source": [
    "#2자리 양수 (10-99) 입력받기\n",
    "\n",
    "print(\"2자리 양수를 입력하세요\")\n",
    "\n",
    "while True:\n",
    "    no = int(input('값을 입력: '))\n",
    "    if no >= 10 and no<=99:\n",
    "        break\n",
    "        \n",
    "print(f'입력받은 양수는 {no}')"
   ]
  },
  {
   "cell_type": "code",
   "execution_count": 30,
   "id": "6dffa045",
   "metadata": {},
   "outputs": [
    {
     "name": "stdout",
     "output_type": "stream",
     "text": [
      "---------------------------\n",
      "  1  2  3  4  5  6  7  8  9\n",
      "  2  4  6  8 10 12 14 16 18\n",
      "  3  6  9 12 15 18 21 24 27\n",
      "  4  8 12 16 20 24 28 32 36\n",
      "  5 10 15 20 25 30 35 40 45\n",
      "  6 12 18 24 30 36 42 48 54\n",
      "  7 14 21 28 35 42 49 56 63\n",
      "  8 16 24 32 40 48 56 64 72\n",
      "  9 18 27 36 45 54 63 72 81\n"
     ]
    }
   ],
   "source": [
    "#구구단 곱셈표 출력하기\n",
    "\n",
    "print('-' *27)\n",
    "\n",
    "for i in range(1,10):\n",
    "    for j in range(1,10):\n",
    "        print(f'{i*j:3}', end='')\n",
    "    print()"
   ]
  },
  {
   "cell_type": "code",
   "execution_count": 36,
   "id": "df7768e9",
   "metadata": {
    "scrolled": true
   },
   "outputs": [
    {
     "name": "stdout",
     "output_type": "stream",
     "text": [
      "짧은 변의 길이를 입력하세요: 3\n",
      "*\n",
      "**\n",
      "***\n"
     ]
    }
   ],
   "source": [
    "#왼쪽 아래가 직각인 이등변 삼각형으로 *출력하기\n",
    "\n",
    "n= int(input(\"짧은 변의 길이를 입력하세요: \"))\n",
    "\n",
    "for i in range(n):\n",
    "    for j in range(i+1):\n",
    "        print('*', end='')\n",
    "        \n",
    "    print()"
   ]
  },
  {
   "cell_type": "code",
   "execution_count": 40,
   "id": "1b1d0f6e",
   "metadata": {},
   "outputs": [
    {
     "name": "stdout",
     "output_type": "stream",
     "text": [
      "짧은 변의 길이를 입력하세요: 5\n",
      "    *\n",
      "   **\n",
      "  ***\n",
      " ****\n",
      "*****\n"
     ]
    }
   ],
   "source": [
    "#오른쪽 아래가 직각인 이등변 삼각형으로 *출력하기\n",
    "\n",
    "n= int(input(\"짧은 변의 길이를 입력하세요: \"))\n",
    "\n",
    "for i in range(n):\n",
    "    for j in range(n-i-1):\n",
    "        print(' ', end='')\n",
    "        \n",
    "    for j in range(i+1):\n",
    "        print('*', end='')\n",
    "        \n",
    "    print()\n",
    "        "
   ]
  },
  {
   "cell_type": "code",
   "execution_count": null,
   "id": "9c0d9150",
   "metadata": {},
   "outputs": [],
   "source": []
  }
 ],
 "metadata": {
  "kernelspec": {
   "display_name": "Python 3",
   "language": "python",
   "name": "python3"
  },
  "vp": {
   "base_numbering": 1,
   "nav_menu": {},
   "number_sections": true,
   "sideBar": true,
   "title_cell": "VisualPython",
   "title_sidebar": "VisualPython",
   "vpPosition": {
    "height": "calc(100% - 180px)",
    "right": "10px",
    "top": "110px",
    "width": "50%"
   },
   "vp_cell": false,
   "vp_section_display": true,
   "vp_window_display": false
  }
 },
 "nbformat": 4,
 "nbformat_minor": 5
}
