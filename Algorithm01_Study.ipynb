{
 "cells": [
  {
   "cell_type": "markdown",
   "id": "a0e3cf55",
   "metadata": {},
   "source": [
    "알고리즘 기초"
   ]
  },
  {
   "cell_type": "code",
   "execution_count": 56,
   "id": "41ab032f",
   "metadata": {},
   "outputs": [
    {
     "name": "stdout",
     "output_type": "stream",
     "text": [
      "세 정수의 최댓값을 구합니다\n",
      "1\n",
      "2\n",
      "3\n",
      "3\n"
     ]
    }
   ],
   "source": [
    "#세 정수를 입력받아 최댓값 구하기\n",
    "\n",
    "print(\"세 정수의 최댓값을 구합니다\")\n",
    "a= int(input())\n",
    "b= int(input())\n",
    "c= int(input())\n",
    "\n",
    "maximum = a\n",
    "if b> maximum:\n",
    "    maximum =b\n",
    "    \n",
    "if c> maximum:\n",
    "    maximum =c\n",
    "\n",
    "print(maximum)"
   ]
  },
  {
   "cell_type": "code",
   "execution_count": 59,
   "id": "6a719919",
   "metadata": {},
   "outputs": [
    {
     "name": "stdout",
     "output_type": "stream",
     "text": [
      "장현수\n",
      "안녕하세요? 장현수님.\n"
     ]
    }
   ],
   "source": [
    "#이름을 입력받아 인사하기\n",
    "\n",
    "name = input()\n",
    "print(f'안녕하세요? {name}님.')"
   ]
  },
  {
   "cell_type": "code",
   "execution_count": 63,
   "id": "fbfc41ee",
   "metadata": {},
   "outputs": [
    {
     "name": "stdout",
     "output_type": "stream",
     "text": [
      "3\n"
     ]
    }
   ],
   "source": [
    "#세 정수의 최댓값 구하기\n",
    "\n",
    "def max3(a,b,c):\n",
    "    maximum = a\n",
    "    if b> maximum:\n",
    "        maximum = b\n",
    "        \n",
    "    if c> maximum:\n",
    "        maximum = c\n",
    "        \n",
    "    return maximum\n",
    "\n",
    "print(f'{max3(1,2,3)}')"
   ]
  },
  {
   "cell_type": "code",
   "execution_count": 66,
   "id": "dc725dd1",
   "metadata": {},
   "outputs": [
    {
     "name": "stdout",
     "output_type": "stream",
     "text": [
      "1\n",
      "2\n",
      "3\n",
      "중앙값은 2\n"
     ]
    }
   ],
   "source": [
    "#세 정수를 입력받아 중앙값 구하기\n",
    "\n",
    "def med3(a,b,c):\n",
    "    if a>=b:\n",
    "        if b>=c:\n",
    "            return b\n",
    "        elif a <=c:\n",
    "            return a\n",
    "        else :\n",
    "            return c\n",
    "        \n",
    "    elif a>c:\n",
    "        return a\n",
    "    elif b>c:\n",
    "        return c\n",
    "    else:\n",
    "        return b\n",
    "    \n",
    "a = int(input())\n",
    "b = int(input())\n",
    "c = int(input())\n",
    "\n",
    "print(f'중앙값은 {med3(a,b,c)}')"
   ]
  },
  {
   "cell_type": "code",
   "execution_count": 68,
   "id": "dfb18b74",
   "metadata": {},
   "outputs": [
    {
     "name": "stdout",
     "output_type": "stream",
     "text": [
      "4\n",
      "5\n",
      "6\n",
      "중앙값은 5\n"
     ]
    }
   ],
   "source": [
    "#세 정수를 입력받아 중앙값 구하기 2\n",
    "\n",
    "def med3(a,b,c):\n",
    "    if (b>=a and c<=a) or (b<=a and c>= a):\n",
    "        return a\n",
    "    \n",
    "    elif (a>b and c<b or (a<b and c>b)):\n",
    "        return b\n",
    "    \n",
    "    return c\n",
    "\n",
    "a = int(input())\n",
    "b = int(input())\n",
    "c = int(input())\n",
    "\n",
    "print(f'중앙값은 {med3(a,b,c)}')"
   ]
  },
  {
   "cell_type": "code",
   "execution_count": 69,
   "id": "14ebb06c",
   "metadata": {},
   "outputs": [
    {
     "name": "stdout",
     "output_type": "stream",
     "text": [
      "1\n",
      "양수\n"
     ]
    }
   ],
   "source": [
    "#입력받은 정수의 부호 (양수, 음수, 0) 출력하기\n",
    "\n",
    "a= int(input())\n",
    "\n",
    "if a >0:\n",
    "    print('양수')\n",
    "\n",
    "elif a<0:\n",
    "    print('음수')\n",
    "    \n",
    "else:\n",
    "    print('0')\n",
    "    \n"
   ]
  },
  {
   "cell_type": "code",
   "execution_count": 70,
   "id": "83b9d508",
   "metadata": {},
   "outputs": [
    {
     "name": "stdout",
     "output_type": "stream",
     "text": [
      "4\n",
      "C\n"
     ]
    }
   ],
   "source": [
    "#3기로 분기하는 조건문\n",
    "\n",
    "n = int(input())\n",
    "\n",
    "if n==1:\n",
    "    print('A')\n",
    "    \n",
    "elif n==2:\n",
    "    print('B')\n",
    "    \n",
    "else:\n",
    "    print('C')\n",
    "    \n"
   ]
  },
  {
   "cell_type": "code",
   "execution_count": 71,
   "id": "24bced9c",
   "metadata": {},
   "outputs": [
    {
     "name": "stdout",
     "output_type": "stream",
     "text": [
      "4\n"
     ]
    }
   ],
   "source": [
    "#4기로 분기하는 조건문\n",
    "\n",
    "n = int(input())\n",
    "\n",
    "if n==1:\n",
    "    print('A')\n",
    "    \n",
    "elif n==2:\n",
    "    print('B')\n",
    "    \n",
    "elif n==3:\n",
    "    print('C')"
   ]
  },
  {
   "cell_type": "code",
   "execution_count": 73,
   "id": "e6382ddf",
   "metadata": {},
   "outputs": [
    {
     "name": "stdout",
     "output_type": "stream",
     "text": [
      "4\n"
     ]
    }
   ],
   "source": [
    "#원래의 모습\n",
    "\n",
    "n = int(input())\n",
    "\n",
    "if n==1:\n",
    "    print('A')\n",
    "    \n",
    "elif n==2:\n",
    "    print('B')\n",
    "    \n",
    "elif n==3:\n",
    "    print('C')\n",
    "    \n",
    "else:\n",
    "    pass"
   ]
  },
  {
   "cell_type": "code",
   "execution_count": null,
   "id": "e84f0c6b",
   "metadata": {},
   "outputs": [],
   "source": []
  }
 ],
 "metadata": {
  "kernelspec": {
   "display_name": "Python 3",
   "language": "python",
   "name": "python3"
  },
  "language_info": {
   "codemirror_mode": {
    "name": "ipython",
    "version": 3
   },
   "file_extension": ".py",
   "mimetype": "text/x-python",
   "name": "python",
   "nbconvert_exporter": "python",
   "pygments_lexer": "ipython3",
   "version": "3.8.8"
  },
  "vp": {
   "base_numbering": 1,
   "nav_menu": {},
   "number_sections": true,
   "sideBar": true,
   "title_cell": "VisualPython",
   "title_sidebar": "VisualPython",
   "vpPosition": {
    "height": "calc(100% - 180px)",
    "right": "10px",
    "top": "110px",
    "width": "50%"
   },
   "vp_cell": false,
   "vp_section_display": true,
   "vp_window_display": false
  }
 },
 "nbformat": 4,
 "nbformat_minor": 5
}
