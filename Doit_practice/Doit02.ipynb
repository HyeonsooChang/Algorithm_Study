{
 "cells": [
  {
   "cell_type": "code",
   "execution_count": 6,
   "id": "e2d1c407",
   "metadata": {},
   "outputs": [
    {
     "name": "stdout",
     "output_type": "stream",
     "text": [
      "직사각형의 넓이를 입력하세요.: 64\n",
      "1 x 64\n",
      "2 x 32\n",
      "4 x 16\n",
      "8 x 8\n"
     ]
    }
   ],
   "source": [
    "# 가로 세로가 정수이고 넓이가 area인 직사각형에서 변의 길이를 나열하기\n",
    "\n",
    "area = int(input('직사각형의 넓이를 입력하세요.: '))\n",
    "           \n",
    "for i in range(1, area+1):\n",
    "           if i*i > area : break\n",
    "           if area % i : continue\n",
    "           print(f'{i} x {area//i}')\n",
    "           "
   ]
  },
  {
   "cell_type": "code",
   "execution_count": 10,
   "id": "e0f2c738",
   "metadata": {},
   "outputs": [
    {
     "name": "stdout",
     "output_type": "stream",
     "text": [
      "난수의 개수를 입력하세요.: 3\n",
      "83 26 85 \n",
      "난수 생성을 종료\n"
     ]
    }
   ],
   "source": [
    "# 10~99 사이의 난수 n개 생성하기(13이 나오면 중단)\n",
    "\n",
    "import random\n",
    "\n",
    "n = int(input('난수의 개수를 입력하세요.: '))\n",
    "\n",
    "for _ in range(n):\n",
    "    r = random.randint(10,99)\n",
    "    print(r, end=' ')\n",
    "    if r == 13:\n",
    "        print('\\n 프로그램을 중단')\n",
    "        break\n",
    "\n",
    "else:\n",
    "    print('\\n난수 생성을 종료')"
   ]
  },
  {
   "cell_type": "code",
   "execution_count": 11,
   "id": "3dd5da40",
   "metadata": {},
   "outputs": [
    {
     "name": "stdout",
     "output_type": "stream",
     "text": [
      "1 2 3 4 5 6 7 9 10 11 12 \n"
     ]
    }
   ],
   "source": [
    "#1~12까지 8을 건너뛰고 출력하기 1\n",
    "\n",
    "for i in range(1,13):\n",
    "    if i==8:\n",
    "        continue\n",
    "    print(i, end=' ')\n",
    "    \n",
    "print()"
   ]
  },
  {
   "cell_type": "code",
   "execution_count": 13,
   "id": "3a96da2a",
   "metadata": {},
   "outputs": [
    {
     "name": "stdout",
     "output_type": "stream",
     "text": [
      "1 2 3 4 5 6 7 9 10 11 12 \n"
     ]
    }
   ],
   "source": [
    "#1~12까지 8을 건너뛰고 출력하기 2\n",
    "\n",
    "for i in list(range(1,8))+list(range(9,13)) :\n",
    "    print(i , end= ' ')\n",
    "print()"
   ]
  },
  {
   "cell_type": "code",
   "execution_count": 15,
   "id": "3a78d29f",
   "metadata": {},
   "outputs": [
    {
     "name": "stdout",
     "output_type": "stream",
     "text": [
      "2자리 양수를 입력하세요.\n",
      "값을 입력하세요.: 999\n",
      "값을 입력하세요.: 43\n",
      "입력받은 양수는 43입니다.\n"
     ]
    }
   ],
   "source": [
    "#2자리 양수(10 ~ 99) 입력받기\n",
    "\n",
    "print('2자리 양수를 입력하세요.')\n",
    "\n",
    "while True:\n",
    "    no = int(input('값을 입력하세요.: '))\n",
    "    if no >= 10  and no<=99:\n",
    "        break\n",
    "\n",
    "print(f'입력받은 양수는 {no}입니다.')\n"
   ]
  },
  {
   "cell_type": "code",
   "execution_count": 17,
   "id": "0a4a9b64",
   "metadata": {},
   "outputs": [
    {
     "name": "stdout",
     "output_type": "stream",
     "text": [
      "---------------------------\n",
      "  1   2   3   4   5   6   7   8   9 \n",
      "  2   4   6   8  10  12  14  16  18 \n",
      "  3   6   9  12  15  18  21  24  27 \n",
      "  4   8  12  16  20  24  28  32  36 \n",
      "  5  10  15  20  25  30  35  40  45 \n",
      "  6  12  18  24  30  36  42  48  54 \n",
      "  7  14  21  28  35  42  49  56  63 \n",
      "  8  16  24  32  40  48  56  64  72 \n",
      "  9  18  27  36  45  54  63  72  81 \n",
      "---------------------------\n"
     ]
    }
   ],
   "source": [
    "#구구단 곱셈표 출력하기\n",
    "print('-' *27)\n",
    "for i in range(1,10):\n",
    "    for j in range(1,10):\n",
    "        print(f'{i * j:3}', end = ' ')\n",
    "    print()  #행 변경\n",
    "print('-' *27)"
   ]
  },
  {
   "cell_type": "code",
   "execution_count": 18,
   "id": "b1e03c10",
   "metadata": {},
   "outputs": [
    {
     "name": "stdout",
     "output_type": "stream",
     "text": [
      "왼쪽 아래가 직각인 이등변 삼각형을 출력합니다.\n",
      "짧은 변의 길이를 입력하세요.: 4\n",
      "* \n",
      "* * \n",
      "* * * \n",
      "* * * * \n"
     ]
    }
   ],
   "source": [
    "#왼쪽 아래가 직각인 이등변 삼각형으로 * 출력하기\n",
    "\n",
    "print('왼쪽 아래가 직각인 이등변 삼각형을 출력합니다.')\n",
    "n = int(input('짧은 변의 길이를 입력하세요.: '))\n",
    "\n",
    "for i in range(n):\n",
    "    for j in range(i+1):\n",
    "        print('*', end=' ')\n",
    "    print()"
   ]
  },
  {
   "cell_type": "code",
   "execution_count": 23,
   "id": "89d9edbe",
   "metadata": {},
   "outputs": [
    {
     "name": "stdout",
     "output_type": "stream",
     "text": [
      "왼쪽 아래가 직각인 이등변 삼각형을 출력합니다.\n",
      "짧은 변의 길이를 입력하세요.: 5\n",
      "    *\n",
      "   **\n",
      "  ***\n",
      " ****\n",
      "*****\n"
     ]
    }
   ],
   "source": [
    "# 왼쪽 아래가 직각인 이등변 삼각형으로 * 출력하기(언더스코어 사용)\n",
    "\n",
    "print('왼쪽 아래가 직각인 이등변 삼각형을 출력합니다.')\n",
    "n = int(input('짧은 변의 길이를 입력하세요.: '))\n",
    "\n",
    "for i in range(n):              \n",
    "    for _ in range(n - i - 1):  \n",
    "        print(' ', end='')\n",
    "    for _ in range(i + 1):\n",
    "        print('*', end='')      \n",
    "    print()"
   ]
  },
  {
   "cell_type": "code",
   "execution_count": null,
   "id": "0d739b7a",
   "metadata": {},
   "outputs": [],
   "source": []
  }
 ],
 "metadata": {
  "kernelspec": {
   "display_name": "Python 3",
   "language": "python",
   "name": "python3"
  },
  "language_info": {
   "codemirror_mode": {
    "name": "ipython",
    "version": 3
   },
   "file_extension": ".py",
   "mimetype": "text/x-python",
   "name": "python",
   "nbconvert_exporter": "python",
   "pygments_lexer": "ipython3",
   "version": "3.8.8"
  },
  "vp": {
   "base_numbering": 1,
   "nav_menu": {},
   "number_sections": true,
   "sideBar": true,
   "title_cell": "VisualPython",
   "title_sidebar": "VisualPython",
   "vpPosition": {
    "height": "calc(100% - 180px)",
    "right": "10px",
    "top": "110px",
    "width": "50%"
   },
   "vp_cell": false,
   "vp_section_display": true,
   "vp_window_display": false
  }
 },
 "nbformat": 4,
 "nbformat_minor": 5
}
