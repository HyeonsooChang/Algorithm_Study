{
 "cells": [
  {
   "cell_type": "code",
   "execution_count": 4,
   "id": "259457ae",
   "metadata": {},
   "outputs": [
    {
     "name": "stdout",
     "output_type": "stream",
     "text": [
      "n을 입력하세요 : 8\n",
      "1부터 8까지의 정수의 합은 36입니다.\n"
     ]
    }
   ],
   "source": [
    "#1부터 n까지 정수의 합 구하기(while문)\n",
    "\n",
    "n = int(input('n을 입력하세요 : '))\n",
    "\n",
    "sum = 0\n",
    "i= 1\n",
    "\n",
    "while i <= n:\n",
    "    sum += i\n",
    "    i += 1\n",
    "    \n",
    "print(f'1부터 {n}까지의 정수의 합은 {sum}입니다.')"
   ]
  },
  {
   "cell_type": "code",
   "execution_count": 5,
   "id": "b1874671",
   "metadata": {},
   "outputs": [
    {
     "name": "stdout",
     "output_type": "stream",
     "text": [
      "n을 입력하세요 : 9\n",
      "1부터 9까지의 정수의 합은 45입니다.\n"
     ]
    }
   ],
   "source": [
    "#1부터 n까지 정수의 합 구하기(for문)\n",
    "\n",
    "n = int(input('n을 입력하세요 : '))\n",
    "\n",
    "sum = 0\n",
    "\n",
    "for i in range(1, n+1):\n",
    "    sum += i\n",
    "    \n",
    "print(f'1부터 {n}까지의 정수의 합은 {sum}입니다.')"
   ]
  },
  {
   "cell_type": "code",
   "execution_count": 2,
   "id": "7e837587",
   "metadata": {},
   "outputs": [
    {
     "name": "stdout",
     "output_type": "stream",
     "text": [
      "a을 입력하세요 : 7\n",
      "b을 입력하세요 : 9\n",
      "7부터 9까지의 정수의 합은 24입니다.\n"
     ]
    }
   ],
   "source": [
    "#a부터 b까지 정수의 합 구하기(for문)\n",
    "\n",
    "a = int(input('a을 입력하세요 : '))\n",
    "b = int(input('b을 입력하세요 : '))\n",
    "\n",
    "if a>b:\n",
    "    a,b = b,a   #a와 b를 오름차순으로 정렬\n",
    "    \n",
    "sum = 0\n",
    "for i in range(a, b+1):\n",
    "    sum += i\n",
    "    \n",
    "print(f'{a}부터 {b}까지의 정수의 합은 {sum}입니다.')"
   ]
  },
  {
   "cell_type": "code",
   "execution_count": 5,
   "id": "5832b70b",
   "metadata": {},
   "outputs": [
    {
     "name": "stdout",
     "output_type": "stream",
     "text": [
      "a을 입력하세요 : 5\n",
      "b을 입력하세요 : 8\n",
      "5 + 6 + 7 + 8 = 26\n"
     ]
    }
   ],
   "source": [
    "#a부터 b까지 정수의 합 구하기1\n",
    "\n",
    "a = int(input('a을 입력하세요 : '))\n",
    "b = int(input('b을 입력하세요 : '))\n",
    "\n",
    "if a>b:\n",
    "    a,b = b,a   #a와 b를 오름차순으로 정렬\n",
    "    \n",
    "sum = 0\n",
    "for i in range(a, b+1):\n",
    "    if i < b:\n",
    "        print(f'{i} + ', end='')\n",
    "        \n",
    "    else:\n",
    "        print(f'{i} = ', end='')\n",
    "        \n",
    "    sum += i\n",
    "    \n",
    "print(sum)"
   ]
  },
  {
   "cell_type": "code",
   "execution_count": 6,
   "id": "cd5495a0",
   "metadata": {},
   "outputs": [
    {
     "name": "stdout",
     "output_type": "stream",
     "text": [
      "a을 입력하세요 : 6\n",
      "b을 입력하세요 : 8\n",
      "6 + 7 + 8 = 21\n"
     ]
    }
   ],
   "source": [
    "#a부터 b까지 정수의 합 구하기2\n",
    "\n",
    "a = int(input('a을 입력하세요 : '))\n",
    "b = int(input('b을 입력하세요 : '))\n",
    "\n",
    "if a>b:\n",
    "    a,b = b,a   #a와 b를 오름차순으로 정렬\n",
    "    \n",
    "sum = 0\n",
    "for i in range(a, b):\n",
    "    print(f'{i} + ', end='')\n",
    "    sum += i\n",
    "    \n",
    "print(f'{b} = ', end='')\n",
    "sum += b\n",
    "\n",
    "print(sum)"
   ]
  },
  {
   "cell_type": "code",
   "execution_count": 7,
   "id": "191420c8",
   "metadata": {},
   "outputs": [
    {
     "name": "stdout",
     "output_type": "stream",
     "text": [
      "+와 -를 번갈아 출력합니다.\n",
      "몇 개를 출력할까요?: 4\n",
      "+-+-\n"
     ]
    }
   ],
   "source": [
    "# +와 -를 번갈아 출력하기 1\n",
    "\n",
    "print('+와 -를 번갈아 출력합니다.')\n",
    "n = int(input('몇 개를 출력할까요?: '))\n",
    "\n",
    "for i in range(n):\n",
    "    if i % 2 :\n",
    "        print('-', end='')\n",
    "        \n",
    "    else:\n",
    "        print('+', end='')\n",
    "        \n",
    "print()"
   ]
  },
  {
   "cell_type": "code",
   "execution_count": 8,
   "id": "35218b1f",
   "metadata": {},
   "outputs": [
    {
     "name": "stdout",
     "output_type": "stream",
     "text": [
      "+와 -를 번갈아 출력합니다.\n",
      "몇 개를 출력할까요?: 8\n",
      "-+-+-+-+\n"
     ]
    }
   ],
   "source": [
    "# +와 -를 번갈아 출력하기 2\n",
    "\n",
    "print('+와 -를 번갈아 출력합니다.')\n",
    "n = int(input('몇 개를 출력할까요?: '))\n",
    "\n",
    "for i in range(1, n+1):\n",
    "    if i % 2 :\n",
    "        print('-', end='')\n",
    "        \n",
    "    else:\n",
    "        print('+', end='')\n",
    "        \n",
    "print()"
   ]
  },
  {
   "cell_type": "code",
   "execution_count": 9,
   "id": "222d5965",
   "metadata": {},
   "outputs": [
    {
     "name": "stdout",
     "output_type": "stream",
     "text": [
      "+와 -를 번갈아 출력합니다.\n",
      "몇 개를 출력할까요?: 9\n",
      "+-+-+-+-+\n"
     ]
    }
   ],
   "source": [
    "# +와 -를 번갈아 출력하기 1\n",
    "\n",
    "print('+와 -를 번갈아 출력합니다.')\n",
    "n = int(input('몇 개를 출력할까요?: '))\n",
    "\n",
    "for _ in range(n//2):\n",
    "    print('+-', end='')    #+-를 n//2개를 출력\n",
    "        \n",
    "if n%2:\n",
    "    print('+', end='')\n",
    "        \n",
    "print()"
   ]
  },
  {
   "cell_type": "code",
   "execution_count": 17,
   "id": "5042b850",
   "metadata": {},
   "outputs": [
    {
     "name": "stdout",
     "output_type": "stream",
     "text": [
      "*를 출력합니다.\n",
      "몇 개를 출력할까요? : 15\n",
      "몇 개마다 줄바꿈할까요? : 4\n",
      "****\n",
      "****\n",
      "****\n",
      "***\n"
     ]
    }
   ],
   "source": [
    "#*를 n개 출력하되 w개마다 줄바꿈하기 1\n",
    "\n",
    "print('*를 출력합니다.')\n",
    "n = int(input('몇 개를 출력할까요? : '))\n",
    "w = int(input('몇 개마다 줄바꿈할까요? : '))\n",
    "\n",
    "for i in range(n):\n",
    "    print('*', end='')\n",
    "    if i%w ==w-1:\n",
    "        print()\n",
    "        \n",
    "if n%w:\n",
    "    print()"
   ]
  },
  {
   "cell_type": "code",
   "execution_count": 20,
   "id": "7cd4dd38",
   "metadata": {},
   "outputs": [
    {
     "name": "stdout",
     "output_type": "stream",
     "text": [
      "*를 출력합니다.\n",
      "몇 개를 출력할까요? : 15\n",
      "몇 개마다 줄바꿈할까요? : 4\n",
      "****\n",
      "****\n",
      "****\n",
      "***\n"
     ]
    }
   ],
   "source": [
    "#*를 n개 출력하되 w개마다 줄바꿈하기 1\n",
    "\n",
    "print('*를 출력합니다.')\n",
    "n = int(input('몇 개를 출력할까요? : '))\n",
    "w = int(input('몇 개마다 줄바꿈할까요? : '))\n",
    "\n",
    "for _ in range(n//w):\n",
    "    print('*'*w)\n",
    "    \n",
    "rest = n%w\n",
    "if rest:\n",
    "    print('*' *rest)"
   ]
  },
  {
   "cell_type": "code",
   "execution_count": 22,
   "id": "e4d09456",
   "metadata": {},
   "outputs": [
    {
     "name": "stdout",
     "output_type": "stream",
     "text": [
      "1부터 n까지 정수의 합을 구합니다.\n",
      "n값을 입력하세요: -1\n",
      "n값을 입력하세요: 4\n",
      "1부터 4까지 정수의 합은 10입니다.\n"
     ]
    }
   ],
   "source": [
    "  #1부터 n까지 정수의 합 구하기(n값은 양수만 입력받음)\n",
    "\n",
    "print('1부터 n까지 정수의 합을 구합니다.')\n",
    "\n",
    "while True:\n",
    "    n = int(input('n값을 입력하세요: '))\n",
    "    if n > 0 :\n",
    "        break\n",
    "        \n",
    "sum=0\n",
    "i = 1\n",
    "\n",
    "for i in range(1,n+1):\n",
    "    sum +=i\n",
    "    i += 1\n",
    "    \n",
    "print(f'1부터 {n}까지 정수의 합은 {sum}입니다.')"
   ]
  },
  {
   "cell_type": "code",
   "execution_count": null,
   "id": "b74bf8c4",
   "metadata": {},
   "outputs": [],
   "source": []
  }
 ],
 "metadata": {
  "kernelspec": {
   "display_name": "python3_7_6",
   "language": "python",
   "name": "py3_7_6"
  },
  "language_info": {
   "codemirror_mode": {
    "name": "ipython",
    "version": 3
   },
   "file_extension": ".py",
   "mimetype": "text/x-python",
   "name": "python",
   "nbconvert_exporter": "python",
   "pygments_lexer": "ipython3",
   "version": "3.8.8"
  },
  "vp": {
   "base_numbering": 1,
   "nav_menu": {},
   "number_sections": true,
   "sideBar": true,
   "title_cell": "VisualPython",
   "title_sidebar": "VisualPython",
   "vpPosition": {
    "height": "calc(100% - 180px)",
    "right": "10px",
    "top": "110px",
    "width": "50%"
   },
   "vp_cell": false,
   "vp_section_display": true,
   "vp_window_display": false
  }
 },
 "nbformat": 4,
 "nbformat_minor": 5
}
