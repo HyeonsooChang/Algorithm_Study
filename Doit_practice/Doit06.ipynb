{
 "cells": [
  {
   "cell_type": "code",
   "execution_count": 3,
   "id": "6ca358bc",
   "metadata": {},
   "outputs": [
    {
     "name": "stdout",
     "output_type": "stream",
     "text": [
      "x = [11, 22, 33, 44, 55]\n",
      "업데이트할 인덱스를 선택하세요.: 3\n",
      "새로운 값을 입력하세요.: 45\n",
      "x = [11, 22, 33, 45, 55]\n"
     ]
    }
   ],
   "source": [
    "# 리스트의 모든 원솟값을 업데이트하기\n",
    "\n",
    "def change(lst, idx, val):\n",
    "    \"\"\"lst[idx]의 값을 val로 업데이트\"\"\"\n",
    "    lst [idx] = val\n",
    "\n",
    "x = [11, 22, 33, 44, 55]\n",
    "print('x =', x)\n",
    "\n",
    "index = int(input('업데이트할 인덱스를 선택하세요.: '))\n",
    "value = int(input('새로운 값을 입력하세요.: '))\n",
    "\n",
    "change(x, index, value)\n",
    "print(f'x = {x}')"
   ]
  },
  {
   "cell_type": "code",
   "execution_count": null,
   "id": "d4f6a554",
   "metadata": {},
   "outputs": [],
   "source": []
  }
 ],
 "metadata": {
  "kernelspec": {
   "display_name": "Python 3",
   "language": "python",
   "name": "python3"
  },
  "language_info": {
   "codemirror_mode": {
    "name": "ipython",
    "version": 3
   },
   "file_extension": ".py",
   "mimetype": "text/x-python",
   "name": "python",
   "nbconvert_exporter": "python",
   "pygments_lexer": "ipython3",
   "version": "3.8.8"
  },
  "vp": {
   "base_numbering": 1,
   "nav_menu": {},
   "number_sections": true,
   "sideBar": true,
   "title_cell": "VisualPython",
   "title_sidebar": "VisualPython",
   "vpPosition": {
    "height": "calc(100% - 180px)",
    "right": "10px",
    "top": "110px",
    "width": "50%"
   },
   "vp_cell": false,
   "vp_section_display": true,
   "vp_window_display": false
  }
 },
 "nbformat": 4,
 "nbformat_minor": 5
}
