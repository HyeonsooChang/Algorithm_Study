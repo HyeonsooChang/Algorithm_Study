{
 "cells": [
  {
   "cell_type": "code",
   "execution_count": 1,
   "id": "8c63ca35",
   "metadata": {},
   "outputs": [
    {
     "name": "stdout",
     "output_type": "stream",
     "text": [
      "a부터 b까지의 합을 구합니다.\n",
      "정수 a를 입력하세요.: 3\n",
      "정수 b를 입력하세요.: 4\n",
      "3부터 4까지 정수의 합은 7입니다.\n"
     ]
    }
   ],
   "source": [
    "#a부터 b까지 정수의 합 구하기(for 문)\n",
    "\n",
    "print('a부터 b까지의 합을 구합니다.')\n",
    "a = int(input('정수 a를 입력하세요.: '))\n",
    "b = int(input('정수 b를 입력하세요.: '))\n",
    "\n",
    "if a > b:\n",
    "    a, b = b, a  # a와 b를 오름차순으로 정렬\n",
    "\n",
    "sum = 0\n",
    "for i in range(a, b + 1):\n",
    "    sum += i  # sum에 i를 더함\n",
    "\n",
    "print(f'{a}부터 {b}까지 정수의 합은 {sum}입니다.')"
   ]
  },
  {
   "cell_type": "code",
   "execution_count": null,
   "id": "c0b8a62d",
   "metadata": {},
   "outputs": [],
   "source": []
  }
 ],
 "metadata": {
  "kernelspec": {
   "display_name": "Python 3",
   "language": "python",
   "name": "python3"
  },
  "language_info": {
   "codemirror_mode": {
    "name": "ipython",
    "version": 3
   },
   "file_extension": ".py",
   "mimetype": "text/x-python",
   "name": "python",
   "nbconvert_exporter": "python",
   "pygments_lexer": "ipython3",
   "version": "3.8.8"
  },
  "vp": {
   "base_numbering": 1,
   "nav_menu": {},
   "number_sections": true,
   "sideBar": true,
   "title_cell": "VisualPython",
   "title_sidebar": "VisualPython",
   "vpPosition": {
    "height": "calc(100% - 180px)",
    "right": "10px",
    "top": "110px",
    "width": "50%"
   },
   "vp_cell": false,
   "vp_section_display": true,
   "vp_window_display": false
  }
 },
 "nbformat": 4,
 "nbformat_minor": 5
}
