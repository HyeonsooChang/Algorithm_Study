{
 "cells": [
  {
   "cell_type": "code",
   "execution_count": 1,
   "id": "cba9a65d",
   "metadata": {},
   "outputs": [
    {
     "name": "stdout",
     "output_type": "stream",
     "text": [
      "1부터 n까지의 합을 구합니다.\n",
      "n값을 입력하세요.: 2\n",
      "1부터 2까지 정수의 합은 3입니다.\n"
     ]
    }
   ],
   "source": [
    "#1부터 n까지의 합 구하기 2(for 문)\n",
    "\n",
    "print('1부터 n까지의 합을 구합니다.')\n",
    "n = int(input('n값을 입력하세요.: '))\n",
    "\n",
    "sum = 0\n",
    "for i in range(1, n + 1):\n",
    "    sum += i  # sum에 i를 더함\n",
    "\n",
    "print(f'1부터 {n}까지 정수의 합은 {sum}입니다.')"
   ]
  },
  {
   "cell_type": "code",
   "execution_count": 4,
   "id": "a65e7eb4",
   "metadata": {},
   "outputs": [
    {
     "name": "stdout",
     "output_type": "stream",
     "text": [
      "1부터 n까지 정수의 합을 구합니다.\n",
      "n값을 입력하세요.: 5\n",
      "1부터 5까지 정수의 합은 15입니다.\n"
     ]
    }
   ],
   "source": [
    "# 1부터 n까지 정수의 합 구하기(n값은 양수만 입력받음)\n",
    "\n",
    "print('1부터 n까지 정수의 합을 구합니다.')\n",
    "\n",
    "while True:\n",
    "    n = int(input('n값을 입력하세요.: '))\n",
    "    if n > 0:\n",
    "        break  # n이 0보다 커질 때까지 반복\n",
    "\n",
    "sum = 0\n",
    "i = 1\n",
    "\n",
    "for i in range(1, n + 1):\n",
    "    sum += i  # sum에 i를 더함\n",
    "    i += 1    # i에 1을 더함\n",
    "\n",
    "print(f'1부터 {n}까지 정수의 합은 {sum}입니다.')"
   ]
  },
  {
   "cell_type": "code",
   "execution_count": 2,
   "id": "0f06c7cf",
   "metadata": {},
   "outputs": [
    {
     "name": "stdout",
     "output_type": "stream",
     "text": [
      "1부터 n까지 정수의 합을 구합니다.\n",
      "n값을 입력하세요.: 5\n",
      "1부터 5까지 정수의 합은 15입니다.\n"
     ]
    }
   ],
   "source": [
    "#1부터 n까지 정수의 합 구하기(n값은 양수만 입력받음)\n",
    "\n",
    "print('1부터 n까지 정수의 합을 구합니다.')\n",
    "\n",
    "while True:\n",
    "    n = int(input('n값을 입력하세요.: '))\n",
    "    if n > 0:\n",
    "        break  # n이 0보다 커질 때까지 반복\n",
    "\n",
    "sum = 0\n",
    "i = 1\n",
    "\n",
    "for i in range(1, n + 1):\n",
    "    sum += i  # sum에 i를 더함\n",
    "    i += 1    # i에 1을 더함\n",
    "\n",
    "print(f'1부터 {n}까지 정수의 합은 {sum}입니다.')"
   ]
  },
  {
   "cell_type": "code",
   "execution_count": 3,
   "id": "8b7195fc",
   "metadata": {},
   "outputs": [
    {
     "name": "stdout",
     "output_type": "stream",
     "text": [
      "1부터 n까지 정수의 합을 구합니다.\n",
      "n값을 입력하세요. : 5\n",
      "1부터 5까지 정수의 합은 15입니다.\n",
      "i값은 6입니다.\n"
     ]
    }
   ],
   "source": [
    "# 1부터 n까지 정수의 합 구하기 1(while 문)\n",
    "\n",
    "print('1부터 n까지 정수의 합을 구합니다.')\n",
    "n = int(input('n값을 입력하세요. : '))\n",
    "\n",
    "sum = 0\n",
    "i = 1\n",
    "\n",
    "while i <= n:  # i가 n보다 작거나 같은 동안 반복\n",
    "    sum += i   # sum에 i를 더함\n",
    "    i += 1     # i에 1을 더함\n",
    "    \n",
    "print(f'1부터 {n}까지 정수의 합은 {sum}입니다.')\n",
    "print(f'i값은 {i}입니다.')"
   ]
  },
  {
   "cell_type": "code",
   "execution_count": 5,
   "id": "60479cd9",
   "metadata": {},
   "outputs": [
    {
     "name": "stdout",
     "output_type": "stream",
     "text": [
      "1부터 n까지의 합을 구합니다.\n",
      "n값을 입력하세요.: 5\n",
      "1부터 5까지의 합은 15입니다.\n"
     ]
    }
   ],
   "source": [
    "# 1부터 n까지의 합 구하기 3(가우스 덧셈 방법)\n",
    "\n",
    "print('1부터 n까지의 합을 구합니다.')\n",
    "n = int(input('n값을 입력하세요.: '))\n",
    "\n",
    "sum = n * (n + 1) // 2\n",
    "\n",
    "print(f'1부터 {n}까지의 합은 {sum}입니다.')"
   ]
  },
  {
   "cell_type": "code",
   "execution_count": 6,
   "id": "8dbcface",
   "metadata": {},
   "outputs": [
    {
     "name": "stdout",
     "output_type": "stream",
     "text": [
      "a부터 b까지의 합을 구합니다.\n",
      "정수 a를 입력하세요.: 5\n",
      "정수 b를 입력하세요.: 6\n",
      "5 + 6 = 11\n"
     ]
    }
   ],
   "source": [
    "#a부터 b까지 정수의 합 구하기 1\n",
    "\n",
    "print('a부터 b까지의 합을 구합니다.')\n",
    "a = int(input('정수 a를 입력하세요.: '))\n",
    "b = int(input('정수 b를 입력하세요.: '))\n",
    "\n",
    "if a > b:\n",
    "    a, b = b, a\n",
    "\n",
    "sum = 0\n",
    "for i in range(a, b + 1):  # b - a번 반복\n",
    "    if i < b:              # i가 b보다 작으면 합을 구하는 과정을 출력\n",
    "        print(f'{i} + ', end='')\n",
    "    else:                  # i가 b보다 크거나 같으면 최종값 출력을 위해 i =를 출력\n",
    "        print(f'{i} = ', end='')\n",
    "    sum += i               # sum에 i를 더함\n",
    "\n",
    "print(sum)"
   ]
  },
  {
   "cell_type": "code",
   "execution_count": 7,
   "id": "1411ca37",
   "metadata": {},
   "outputs": [
    {
     "name": "stdout",
     "output_type": "stream",
     "text": [
      "a부터 b까지 정수의 합을 구합니다.\n",
      "정수 a를 입력하세요.: 5\n",
      "정수 b를 입력하세요.: 6\n",
      "5 + 6 = 11\n"
     ]
    }
   ],
   "source": [
    "#a부터 b까지 정수의 합 구하기 2\n",
    "\n",
    "print('a부터 b까지 정수의 합을 구합니다.')\n",
    "a = int(input('정수 a를 입력하세요.: '))\n",
    "b = int(input('정수 b를 입력하세요.: '))\n",
    "\n",
    "if a > b :\n",
    "    a, b = b, a\n",
    "\n",
    "sum = 0\n",
    "for i in range(a, b):\n",
    "    print(f'{i} + ', end='')\n",
    "    sum += i  # sum에 i를 더함\n",
    "\n",
    "print(f'{b} = ', end ='')\n",
    "sum += b      # sum에 b를 더함\n",
    "\n",
    "print(sum)"
   ]
  },
  {
   "cell_type": "code",
   "execution_count": null,
   "id": "98ac910d",
   "metadata": {},
   "outputs": [],
   "source": []
  }
 ],
 "metadata": {
  "kernelspec": {
   "display_name": "Python 3",
   "language": "python",
   "name": "python3"
  },
  "language_info": {
   "codemirror_mode": {
    "name": "ipython",
    "version": 3
   },
   "file_extension": ".py",
   "mimetype": "text/x-python",
   "name": "python",
   "nbconvert_exporter": "python",
   "pygments_lexer": "ipython3",
   "version": "3.8.8"
  },
  "vp": {
   "base_numbering": 1,
   "nav_menu": {},
   "number_sections": true,
   "sideBar": true,
   "title_cell": "VisualPython",
   "title_sidebar": "VisualPython",
   "vpPosition": {
    "height": "calc(100% - 180px)",
    "right": "10px",
    "top": "110px",
    "width": "50%"
   },
   "vp_cell": false,
   "vp_section_display": true,
   "vp_window_display": false
  }
 },
 "nbformat": 4,
 "nbformat_minor": 5
}
