{
 "cells": [
  {
   "cell_type": "markdown",
   "metadata": {},
   "source": [
    "코딩 테스트에서 점수를 받으려면, 주어진 문제를 에러 없이 주어진 시간 안에 정해진 정답을 출력해야 한다. \n",
    "\n",
    "따라서 우리가 집중을 해야 할 부분은 \n",
    "\n",
    "첫째, 정답을 도출해 낼 수 있는 알고리즘을 짜야한다. \n",
    "\n",
    "둘째, **주어진 시간 안에** 코딩 정답을 도출해야 한다."
   ]
  },
  {
   "cell_type": "markdown",
   "metadata": {},
   "source": [
    "##### max()을 사용하지 않고 max() 구현하기(for 문 사용)"
   ]
  },
  {
   "cell_type": "code",
   "execution_count": 46,
   "metadata": {},
   "outputs": [
    {
     "data": {
      "text/plain": [
       "7"
      ]
     },
     "execution_count": 46,
     "metadata": {},
     "output_type": "execute_result"
    }
   ],
   "source": [
    "data=[2, 7, 2, 4, 6]\n",
    "\n",
    "max_v = 0\n",
    "for i in data:\n",
    "    if max_v < i:\n",
    "        max_v=i\n",
    "        \n",
    "max_v"
   ]
  },
  {
   "cell_type": "markdown",
   "metadata": {},
   "source": [
    "##### min()을 사용하지 않고 min() 구현하기(for 문 사용)"
   ]
  },
  {
   "cell_type": "code",
   "execution_count": 47,
   "metadata": {},
   "outputs": [
    {
     "data": {
      "text/plain": [
       "2"
      ]
     },
     "execution_count": 47,
     "metadata": {},
     "output_type": "execute_result"
    }
   ],
   "source": [
    "data=[2, 7, 2, 4, 6]\n",
    "\n",
    "min_v = data[0]\n",
    "\n",
    "for i in data:\n",
    "    if min_v > i:\n",
    "        min_v = i\n",
    "        \n",
    "\n",
    "min_v\n",
    "    \n"
   ]
  },
  {
   "cell_type": "markdown",
   "metadata": {},
   "source": [
    "##### sum()을 사용하지 않고 sum()  구현하기(for 문 사용)"
   ]
  },
  {
   "cell_type": "code",
   "execution_count": 48,
   "metadata": {},
   "outputs": [
    {
     "data": {
      "text/plain": [
       "21"
      ]
     },
     "execution_count": 48,
     "metadata": {},
     "output_type": "execute_result"
    }
   ],
   "source": [
    "data=[2, 7, 2, 4, 6]\n",
    "\n",
    "sum_v = 0\n",
    "for i in data:\n",
    "    sum_v +=i\n",
    "    \n",
    "sum_v"
   ]
  },
  {
   "cell_type": "markdown",
   "metadata": {},
   "source": [
    "##### 평균값 구현하기(for 문 사용)"
   ]
  },
  {
   "cell_type": "code",
   "execution_count": 49,
   "metadata": {},
   "outputs": [
    {
     "data": {
      "text/plain": [
       "4.2"
      ]
     },
     "execution_count": 49,
     "metadata": {},
     "output_type": "execute_result"
    }
   ],
   "source": [
    "data=[2, 7, 2, 4, 6]\n",
    "\n",
    "sum_v1=0\n",
    "\n",
    "for i in data:\n",
    "    sum_v1 +=i\n",
    "    \n",
    "avg_v = sum_v1/len(data)\n",
    "avg_v\n"
   ]
  },
  {
   "cell_type": "markdown",
   "metadata": {},
   "source": [
    "##### 조건문과 반복문, break를 활용하여 다음 headlines 리스트의 요소들을 130자 크기의 하나의 문자열로 이어 붙이는 코드를 작성하세요.\n",
    "```\n",
    "headlines = [\n",
    "  \"Local Bear Eaten by Man\",\n",
    "  \"Legislature Announces New Laws\",\n",
    "  \"Peasant Discovers Violence Inherent in System\",\n",
    "  \"Cat Rescues Fireman Stuck in Tree\",\n",
    "  \"Brave Knight Runs Away\",\n",
    "  \"Papperbok Review: Totally Triffic\"\n",
    "]\n",
    "```"
   ]
  },
  {
   "cell_type": "code",
   "execution_count": 111,
   "metadata": {},
   "outputs": [
    {
     "data": {
      "text/plain": [
       "'Local Bear Eaten by ManLegislature Announces New LawsPeasant Discovers Violence Inherent in SystemCat Rescues Fireman Stuck in Tre'"
      ]
     },
     "execution_count": 111,
     "metadata": {},
     "output_type": "execute_result"
    }
   ],
   "source": [
    "headlines = [\n",
    "  \"Local Bear Eaten by Man\",\n",
    "  \"Legislature Announces New Laws\",\n",
    "  \"Peasant Discovers Violence Inherent in System\",\n",
    "  \"Cat Rescues Fireman Stuck in Tree\",\n",
    "  \"Brave Knight Runs Away\",\n",
    "  \"Papperbok Review: Totally Triffic\"\n",
    "]\n",
    "\n",
    "\n",
    "headlines_v = ''\n",
    "\n",
    "for i in headlines:\n",
    "    headlines_v += i\n",
    "    \n",
    "headlines_v[:130]"
   ]
  },
  {
   "cell_type": "markdown",
   "metadata": {},
   "source": [
    "##### 나이가 입력된 리스트가 있을때, 조건문과 반복문, continue를 활용하여 20살 이상일때만 \"성인입니다\"라는 출력을 하는 코드를 작성하세요.\n",
    "\n",
    "예시 출력)\n",
    "\n",
    "23 살은 성인입니다.\n",
    "30 살은 성인입니다.\n",
    "25 살은 성인입니다.\n",
    "31 살은 성인입니다."
   ]
  },
  {
   "cell_type": "code",
   "execution_count": 63,
   "metadata": {},
   "outputs": [
    {
     "name": "stdout",
     "output_type": "stream",
     "text": [
      "20살은 성인입니다\n",
      "30살은 성인입니다\n",
      "40살은 성인입니다\n"
     ]
    }
   ],
   "source": [
    "age = [10,20,30,40]\n",
    "\n",
    "for i in age:\n",
    "    if i >=20:\n",
    "        print(f'{i}살은 성인입니다')\n",
    "    else:\n",
    "        continue\n",
    "        \n"
   ]
  },
  {
   "cell_type": "markdown",
   "metadata": {},
   "source": [
    "##### 장바구니에 아래와 같은 과일이 들어있고 과일 판별 리스트가 있습니다. 현재 장바구니에는 과일이 몇개이고 과일이 아닌 것은 몇개인지 출력하세요.\n",
    "\n",
    "```\n",
    "basket_items = {'apples': 4, 'oranges': 19, 'kites': 3, 'sandwiches': 8}\n",
    "fruits = ['apples', 'oranges', 'pears', 'peaches', 'grapes', 'bananas']\n",
    "```"
   ]
  },
  {
   "cell_type": "code",
   "execution_count": 85,
   "metadata": {
    "scrolled": true
   },
   "outputs": [
    {
     "name": "stdout",
     "output_type": "stream",
     "text": [
      "과일은 23이고, 11은 과일이 아니다\n"
     ]
    }
   ],
   "source": [
    "'''\n",
    "예시 출력)\n",
    "과일은 23개이고, 11개는 과일이 아닙니다..\n",
    "'''\n",
    "\n",
    "basket_items = {'apples': 4, 'oranges': 19, 'kites': 3, 'sandwiches': 8}\n",
    "fruits = ['apples', 'oranges', 'pears', 'peaches', 'grapes', 'bananas']\n",
    "\n",
    "sum1 = 0\n",
    "sum2 = 0\n",
    "\n",
    "for i in basket_items:\n",
    "    if i in fruits:\n",
    "        sum1 += basket_items[i]\n",
    "        \n",
    "    else:\n",
    "        sum2 +=basket_items[i]\n",
    "    \n",
    "print(f\"과일은 {sum1}이고, {sum2}은 과일이 아니다\")\n",
    "\n"
   ]
  }
 ],
 "metadata": {
  "kernelspec": {
   "display_name": "Python 3",
   "language": "python",
   "name": "python3"
  },
  "language_info": {
   "codemirror_mode": {
    "name": "ipython",
    "version": 3
   },
   "file_extension": ".py",
   "mimetype": "text/x-python",
   "name": "python",
   "nbconvert_exporter": "python",
   "pygments_lexer": "ipython3",
   "version": "3.8.8"
  },
  "toc": {
   "base_numbering": 1,
   "nav_menu": {},
   "number_sections": true,
   "sideBar": true,
   "skip_h1_title": false,
   "title_cell": "Table of Contents",
   "title_sidebar": "Contents",
   "toc_cell": false,
   "toc_position": {},
   "toc_section_display": true,
   "toc_window_display": false
  },
  "vp": {
   "base_numbering": 1,
   "nav_menu": {},
   "number_sections": true,
   "sideBar": true,
   "title_cell": "VisualPython",
   "title_sidebar": "VisualPython",
   "vpPosition": {
    "height": "calc(100% - 180px)",
    "right": "10px",
    "top": "110px",
    "width": "50%"
   },
   "vp_cell": false,
   "vp_section_display": true,
   "vp_window_display": false
  }
 },
 "nbformat": 4,
 "nbformat_minor": 4
}
