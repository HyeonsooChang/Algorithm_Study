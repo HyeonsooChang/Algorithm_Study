{
 "cells": [
  {
   "cell_type": "code",
   "execution_count": 1,
   "id": "128442fb",
   "metadata": {},
   "outputs": [
    {
     "name": "stdout",
     "output_type": "stream",
     "text": [
      "1부터 n까지의 합.\n",
      "n값을 입력하세요 : 6\n",
      "1부터 6까지 정수의 합은 21입니다.\n"
     ]
    }
   ],
   "source": [
    "#1부터 n까지 정수의 합 구하기 1(while문)\n",
    "\n",
    "print(\"1부터 n까지의 합.\")\n",
    "n = int(input('n값을 입력하세요 : '))\n",
    "\n",
    "sum = 0 \n",
    "i = 1            #합을 저장하는 sum과 반복을 제어하는 i값을 초기화\n",
    "\n",
    "while i <=n:   \n",
    "    sum += i\n",
    "    i+= 1\n",
    "    \n",
    "print(f'1부터 {n}까지 정수의 합은 {sum}입니다.')"
   ]
  },
  {
   "cell_type": "code",
   "execution_count": 2,
   "id": "efe34fe2",
   "metadata": {},
   "outputs": [
    {
     "name": "stdout",
     "output_type": "stream",
     "text": [
      "1부터 n까지의 합.\n",
      "n값을 입력하세요 : 7\n",
      "1부터 7까지 정수의 합은 28입니다.\n",
      "이때 i값은 8입니다\n"
     ]
    }
   ],
   "source": [
    "#1부터 n까지 정수의 합 구하기 1(while문)\n",
    "\n",
    "print(\"1부터 n까지의 합.\")\n",
    "n = int(input('n값을 입력하세요 : '))\n",
    "\n",
    "sum = 0 \n",
    "i = 1            #합을 저장하는 sum과 반복을 제어하는 i값을 초기화\n",
    "\n",
    "while i <=n:   \n",
    "    sum += i\n",
    "    i+= 1\n",
    "    \n",
    "print(f'1부터 {n}까지 정수의 합은 {sum}입니다.')\n",
    "print(f'이때 i값은 {i}입니다')"
   ]
  },
  {
   "cell_type": "code",
   "execution_count": 3,
   "id": "af261315",
   "metadata": {},
   "outputs": [
    {
     "name": "stdout",
     "output_type": "stream",
     "text": [
      "1부터 n까지의 합.\n",
      "n값을 입력하세요 : 6\n",
      "1부터 6까지 정수의 합은 21입니다.\n"
     ]
    }
   ],
   "source": [
    "#1부터 n까지 정수의 합 구하기 2 (for문)\n",
    "\n",
    "print(\"1부터 n까지의 합.\")\n",
    "n = int(input('n값을 입력하세요 : '))\n",
    "\n",
    "sum = 0 \n",
    "for i in range(1,n+1):\n",
    "    sum +=i\n",
    "\n",
    "print(f'1부터 {n}까지 정수의 합은 {sum}입니다.')"
   ]
  },
  {
   "cell_type": "code",
   "execution_count": 4,
   "id": "8b8a056c",
   "metadata": {},
   "outputs": [
    {
     "name": "stdout",
     "output_type": "stream",
     "text": [
      "1부터 n까지의 합.\n",
      "a값을 입력하세요 : 6\n",
      "b값을 입력하세요 : 9\n",
      "6부터 9까지의 정수합은 30\n"
     ]
    }
   ],
   "source": [
    "#a부터 b까지 정수의 합 구하기 2 (for문)\n",
    "\n",
    "print(\"1부터 n까지의 합.\")\n",
    "a = int(input('a값을 입력하세요 : '))\n",
    "b = int(input('b값을 입력하세요 : '))\n",
    "\n",
    "if a>b:\n",
    "    a,b = b,a   #a와 b를 오름차순으로 정렬\n",
    "\n",
    "sum = 0\n",
    "for i in range(a,b+1):\n",
    "    sum +=i\n",
    "    \n",
    "print(f'{a}부터 {b}까지의 정수합은 {sum}')"
   ]
  },
  {
   "cell_type": "code",
   "execution_count": 5,
   "id": "a1aee942",
   "metadata": {},
   "outputs": [
    {
     "name": "stdout",
     "output_type": "stream",
     "text": [
      "1부터 n까지의 합.\n",
      "a값을 입력하세요 : 6\n",
      "b값을 입력하세요 : 8\n",
      "6 +7 +8 =21\n"
     ]
    }
   ],
   "source": [
    "#a부터 b까지 정수의 합 구하기 1\n",
    "\n",
    "print(\"1부터 n까지의 합.\")\n",
    "a = int(input('a값을 입력하세요 : '))\n",
    "b = int(input('b값을 입력하세요 : '))\n",
    "\n",
    "if a>b:\n",
    "    a,b = b,a   #a와 b를 오름차순으로 정렬\n",
    "    \n",
    "sum = 0\n",
    "for i in range(a, b+1):\n",
    "    if i<b:\n",
    "        print(f'{i} +', end='')\n",
    "        \n",
    "    else:\n",
    "        print(f'{i} =', end='')\n",
    "        \n",
    "    sum+= i\n",
    "    \n",
    "print(sum)"
   ]
  },
  {
   "cell_type": "code",
   "execution_count": 7,
   "id": "8dadabb5",
   "metadata": {},
   "outputs": [
    {
     "name": "stdout",
     "output_type": "stream",
     "text": [
      "1부터 n까지의 합.\n",
      "a값을 입력하세요 : 2\n",
      "b값을 입력하세요 : 9\n",
      "2 +3 +4 +5 +6 +7 +8 +9 =44\n"
     ]
    }
   ],
   "source": [
    "#a부터 b까지 정수의 합 구하기 2\n",
    "\n",
    "print(\"1부터 n까지의 합.\")\n",
    "a = int(input('a값을 입력하세요 : '))\n",
    "b = int(input('b값을 입력하세요 : '))\n",
    "\n",
    "if a>b:\n",
    "    a,b = b,a   #a와 b를 오름차순으로 정렬\n",
    "    \n",
    "sum = 0\n",
    "for i in range(a, b):\n",
    "    if i<b:\n",
    "        print(f'{i} +', end='')\n",
    "        sum += i\n",
    "        \n",
    "print(f'{b} =', end='')\n",
    "sum+= b\n",
    "    \n",
    "print(sum)"
   ]
  },
  {
   "cell_type": "code",
   "execution_count": 11,
   "id": "b64642e7",
   "metadata": {},
   "outputs": [
    {
     "name": "stdout",
     "output_type": "stream",
     "text": [
      "+와 -를 번갈아 출력합니다\n",
      "몇개를 출력할까요? : 5\n",
      "+-+-+\n"
     ]
    }
   ],
   "source": [
    "#+와 -를 번갈아 출력하기 1\n",
    "\n",
    "print('+와 -를 번갈아 출력합니다')\n",
    "n = int(input('몇개를 출력할까요? : '))\n",
    "\n",
    "for i in range(n):\n",
    "    if i% 2:\n",
    "        print('-', end=\"\")\n",
    "        \n",
    "    else:\n",
    "        print('+', end=\"\")\n",
    "        \n",
    "print()"
   ]
  },
  {
   "cell_type": "code",
   "execution_count": 12,
   "id": "2a694ffd",
   "metadata": {},
   "outputs": [
    {
     "name": "stdout",
     "output_type": "stream",
     "text": [
      "+와 -를 번갈아 출력합니다\n",
      "몇개를 출력할까요? : 8\n",
      "-+-+-+-+\n"
     ]
    }
   ],
   "source": [
    "#+와 -를 번갈아 출력하기 1 (for문 수정)\n",
    "\n",
    "print('+와 -를 번갈아 출력합니다')\n",
    "n = int(input('몇개를 출력할까요? : '))\n",
    "\n",
    "for i in range(1,n+1):\n",
    "    if i% 2:\n",
    "        print('-', end=\"\")\n",
    "        \n",
    "    else:\n",
    "        print('+', end=\"\")\n",
    "        \n",
    "print()"
   ]
  },
  {
   "cell_type": "code",
   "execution_count": 13,
   "id": "8369ec88",
   "metadata": {},
   "outputs": [
    {
     "name": "stdout",
     "output_type": "stream",
     "text": [
      "+와 -를 번갈아 출력합니다\n",
      "몇개를 출력할까요? : 13\n",
      "+-+-+-+-+-+-+\n"
     ]
    }
   ],
   "source": [
    "#+와 -를 번갈아 출력하기 1 (for문 수정)\n",
    "\n",
    "print('+와 -를 번갈아 출력합니다')\n",
    "n = int(input('몇개를 출력할까요? : '))\n",
    "\n",
    "for i in range(n//2):\n",
    "    print('+-', end=\"\")\n",
    "    \n",
    "if n%2 :\n",
    "    print('+', end=\"\")\n",
    "    \n",
    "print()\n",
    "    \n",
    "\n",
    "    "
   ]
  },
  {
   "cell_type": "code",
   "execution_count": 14,
   "id": "97874e12",
   "metadata": {},
   "outputs": [
    {
     "name": "stdout",
     "output_type": "stream",
     "text": [
      "*를 번갈아 출력합니다\n",
      "몇개를 출력할까요? : 5\n",
      "몇개마다 줄바꿈을 할까요? : 3\n",
      "***\n",
      "**\n"
     ]
    }
   ],
   "source": [
    "#*를 n개 출력하되 w개마다 줄바꿈하기 1\n",
    "\n",
    "print('*를 번갈아 출력합니다')\n",
    "n = int(input('몇개를 출력할까요? : '))\n",
    "w = int(input('몇개마다 줄바꿈을 할까요? : '))\n",
    "\n",
    "for i in range(n):\n",
    "    print('*', end=\"\")\n",
    "    if i % w == w-1:\n",
    "        print()\n",
    "        \n",
    "if n%w:\n",
    "    print()\n",
    "    \n"
   ]
  },
  {
   "cell_type": "code",
   "execution_count": 15,
   "id": "072c0a44",
   "metadata": {},
   "outputs": [
    {
     "name": "stdout",
     "output_type": "stream",
     "text": [
      "*를 번갈아 출력합니다\n",
      "몇개를 출력할까요? : 15\n",
      "몇개마다 줄바꿈을 할까요? : 4\n",
      "****\n",
      "****\n",
      "****\n",
      "***\n"
     ]
    }
   ],
   "source": [
    "#*를 n개 출력하되 w개마다 줄바꿈하기 1\n",
    "\n",
    "print('*를 번갈아 출력합니다')\n",
    "n = int(input('몇개를 출력할까요? : '))\n",
    "w = int(input('몇개마다 줄바꿈을 할까요? : '))\n",
    "\n",
    "for i in range(n//w):\n",
    "    print('*'*w)\n",
    "    \n",
    "rest = n%w\n",
    "if rest:\n",
    "    print('*'*rest)"
   ]
  },
  {
   "cell_type": "code",
   "execution_count": null,
   "id": "b367a3b4",
   "metadata": {},
   "outputs": [],
   "source": []
  }
 ],
 "metadata": {
  "kernelspec": {
   "display_name": "Python 3",
   "language": "python",
   "name": "python3"
  },
  "language_info": {
   "codemirror_mode": {
    "name": "ipython",
    "version": 3
   },
   "file_extension": ".py",
   "mimetype": "text/x-python",
   "name": "python",
   "nbconvert_exporter": "python",
   "pygments_lexer": "ipython3",
   "version": "3.8.8"
  },
  "vp": {
   "base_numbering": 1,
   "nav_menu": {},
   "number_sections": true,
   "sideBar": true,
   "title_cell": "VisualPython",
   "title_sidebar": "VisualPython",
   "vpPosition": {
    "height": "calc(100% - 180px)",
    "right": "10px",
    "top": "110px",
    "width": "50%"
   },
   "vp_cell": false,
   "vp_section_display": true,
   "vp_window_display": false
  }
 },
 "nbformat": 4,
 "nbformat_minor": 5
}
